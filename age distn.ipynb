{
 "cells": [
  {
   "cell_type": "code",
   "execution_count": 2,
   "metadata": {},
   "outputs": [
    {
     "data": {
      "text/html": [
       "<div>\n",
       "<style scoped>\n",
       "    .dataframe tbody tr th:only-of-type {\n",
       "        vertical-align: middle;\n",
       "    }\n",
       "\n",
       "    .dataframe tbody tr th {\n",
       "        vertical-align: top;\n",
       "    }\n",
       "\n",
       "    .dataframe thead th {\n",
       "        text-align: right;\n",
       "    }\n",
       "</style>\n",
       "<table border=\"1\" class=\"dataframe\">\n",
       "  <thead>\n",
       "    <tr style=\"text-align: right;\">\n",
       "      <th></th>\n",
       "      <th>date</th>\n",
       "      <th>country</th>\n",
       "      <th>confirmed</th>\n",
       "      <th>recovered</th>\n",
       "      <th>deaths</th>\n",
       "    </tr>\n",
       "  </thead>\n",
       "  <tbody>\n",
       "    <tr>\n",
       "      <th>0</th>\n",
       "      <td>2020-01-22</td>\n",
       "      <td>Afghanistan</td>\n",
       "      <td>0</td>\n",
       "      <td>0</td>\n",
       "      <td>0</td>\n",
       "    </tr>\n",
       "    <tr>\n",
       "      <th>1</th>\n",
       "      <td>2020-01-22</td>\n",
       "      <td>Albania</td>\n",
       "      <td>0</td>\n",
       "      <td>0</td>\n",
       "      <td>0</td>\n",
       "    </tr>\n",
       "    <tr>\n",
       "      <th>2</th>\n",
       "      <td>2020-01-22</td>\n",
       "      <td>Algeria</td>\n",
       "      <td>0</td>\n",
       "      <td>0</td>\n",
       "      <td>0</td>\n",
       "    </tr>\n",
       "    <tr>\n",
       "      <th>3</th>\n",
       "      <td>2020-01-22</td>\n",
       "      <td>Andorra</td>\n",
       "      <td>0</td>\n",
       "      <td>0</td>\n",
       "      <td>0</td>\n",
       "    </tr>\n",
       "    <tr>\n",
       "      <th>4</th>\n",
       "      <td>2020-01-22</td>\n",
       "      <td>Angola</td>\n",
       "      <td>0</td>\n",
       "      <td>0</td>\n",
       "      <td>0</td>\n",
       "    </tr>\n",
       "  </tbody>\n",
       "</table>\n",
       "</div>"
      ],
      "text/plain": [
       "        date      country  confirmed  recovered  deaths\n",
       "0 2020-01-22  Afghanistan          0          0       0\n",
       "1 2020-01-22      Albania          0          0       0\n",
       "2 2020-01-22      Algeria          0          0       0\n",
       "3 2020-01-22      Andorra          0          0       0\n",
       "4 2020-01-22       Angola          0          0       0"
      ]
     },
     "execution_count": 2,
     "metadata": {},
     "output_type": "execute_result"
    }
   ],
   "source": [
    "import numpy as np\n",
    "import pandas as pd\n",
    "import matplotlib.pyplot as plt\n",
    "import seaborn as sns\n",
    "\n",
    "from datetime import datetime\n",
    "data_path = 'covid-udemy class/II/raw/JohnHopkins/COVID-19/csse_covid_19_data/csse_covid_19_time_series/'\n",
    "\n",
    "confirmed_raw = pd.read_csv(data_path+'time_series_covid19_confirmed_global.csv')\n",
    "deaths_raw = pd.read_csv(data_path+'time_series_covid19_deaths_global.csv')\n",
    "recovered_raw = pd.read_csv(data_path+'time_series_covid19_recovered_global.csv')\n",
    "\n",
    "\n",
    "confirmed_raw = confirmed_raw.rename(columns={'Province/State': 'state', 'Country/Region': 'country'})\n",
    "confirmed_raw.drop(['Lat', 'Long', 'state'], axis=1, inplace=True)\n",
    "\n",
    "deaths_raw = deaths_raw.rename(columns={'Province/State': 'state', 'Country/Region': 'country'})\n",
    "deaths_raw.drop(['Lat', 'Long', 'state'], axis=1, inplace=True)\n",
    "\n",
    "recovered_raw = recovered_raw.rename(columns={'Province/State': 'state', 'Country/Region': 'country'})\n",
    "recovered_raw.drop(['Lat', 'Long', 'state'], axis=1, inplace=True)\n",
    "\n",
    "\n",
    "confirmed_raw = confirmed_raw.set_index(['country']).T.stack(level=[0]).reset_index().rename(columns={'level_0':'date', 0:'confirmed'})\n",
    "deaths_raw = deaths_raw.set_index(['country']).T.stack(level=[0]).reset_index().rename(columns={'level_0':'date', 0:'deaths'})\n",
    "recovered_raw = recovered_raw.set_index(['country']).T.stack(level=[0]).reset_index().rename(columns={'level_0':'date', 0:'recovered'})\n",
    "\n",
    "cases = (confirmed_raw.merge(recovered_raw, on=['date', 'country'], how = 'inner')).merge(deaths_raw, on=['date', 'country'], how = 'inner')\n",
    "cases['date'] = cases['date'].astype('datetime64[ns]')\n",
    "cases.head()"
   ]
  },
  {
   "cell_type": "code",
   "execution_count": 4,
   "metadata": {},
   "outputs": [
    {
     "data": {
      "text/html": [
       "<div>\n",
       "<style scoped>\n",
       "    .dataframe tbody tr th:only-of-type {\n",
       "        vertical-align: middle;\n",
       "    }\n",
       "\n",
       "    .dataframe tbody tr th {\n",
       "        vertical-align: top;\n",
       "    }\n",
       "\n",
       "    .dataframe thead th {\n",
       "        text-align: right;\n",
       "    }\n",
       "</style>\n",
       "<table border=\"1\" class=\"dataframe\">\n",
       "  <thead>\n",
       "    <tr style=\"text-align: right;\">\n",
       "      <th></th>\n",
       "      <th>date</th>\n",
       "      <th>country</th>\n",
       "      <th>confirmed</th>\n",
       "      <th>recovered</th>\n",
       "      <th>deaths</th>\n",
       "    </tr>\n",
       "  </thead>\n",
       "  <tbody>\n",
       "    <tr>\n",
       "      <th>7690155</th>\n",
       "      <td>2020-08-02</td>\n",
       "      <td>Sao Tome and Principe</td>\n",
       "      <td>874</td>\n",
       "      <td>787</td>\n",
       "      <td>15</td>\n",
       "    </tr>\n",
       "    <tr>\n",
       "      <th>7690156</th>\n",
       "      <td>2020-08-02</td>\n",
       "      <td>Yemen</td>\n",
       "      <td>1734</td>\n",
       "      <td>862</td>\n",
       "      <td>497</td>\n",
       "    </tr>\n",
       "    <tr>\n",
       "      <th>7690157</th>\n",
       "      <td>2020-08-02</td>\n",
       "      <td>Comoros</td>\n",
       "      <td>386</td>\n",
       "      <td>330</td>\n",
       "      <td>7</td>\n",
       "    </tr>\n",
       "    <tr>\n",
       "      <th>7690158</th>\n",
       "      <td>2020-08-02</td>\n",
       "      <td>Tajikistan</td>\n",
       "      <td>7495</td>\n",
       "      <td>6276</td>\n",
       "      <td>61</td>\n",
       "    </tr>\n",
       "    <tr>\n",
       "      <th>7690159</th>\n",
       "      <td>2020-08-02</td>\n",
       "      <td>Lesotho</td>\n",
       "      <td>718</td>\n",
       "      <td>173</td>\n",
       "      <td>19</td>\n",
       "    </tr>\n",
       "  </tbody>\n",
       "</table>\n",
       "</div>"
      ],
      "text/plain": [
       "              date                country  confirmed  recovered  deaths\n",
       "7690155 2020-08-02  Sao Tome and Principe        874        787      15\n",
       "7690156 2020-08-02                  Yemen       1734        862     497\n",
       "7690157 2020-08-02                Comoros        386        330       7\n",
       "7690158 2020-08-02             Tajikistan       7495       6276      61\n",
       "7690159 2020-08-02                Lesotho        718        173      19"
      ]
     },
     "execution_count": 4,
     "metadata": {},
     "output_type": "execute_result"
    }
   ],
   "source": [
    "cases.tail()"
   ]
  },
  {
   "cell_type": "code",
   "execution_count": null,
   "metadata": {},
   "outputs": [],
   "source": []
  },
  {
   "cell_type": "code",
   "execution_count": 57,
   "metadata": {},
   "outputs": [],
   "source": [
    "# confirmed_raw['date'] = confirmed_raw['date'].astype('datetime64[ns]')\n",
    "# deaths_raw['date'] = deaths_raw['date'].astype('datetime64[ns]')\n",
    "# recovered_raw['date'] = recovered_raw['date'].astype('datetime64[ns]')\n",
    "\n",
    "# # plt.figure(figsize=(12, 6))\n",
    "# fig, axes = plt.subplots(nrows=3, ncols=2, sharex=True)\n",
    "# confirmed_raw.groupby('date').sum().plot(ax=axes[0,0], figsize=(12, 6))\n",
    "# confirmed_raw.groupby('date').sum().plot(ax=axes[0,1], grid=True, logy=True, figsize=(12, 6))\n",
    "\n",
    "# deaths_raw.groupby('date').sum().plot(ax=axes[1,0])\n",
    "# deaths_raw.groupby('date').sum().plot(ax=axes[1,1], grid=True, logy=True, figsize=(12, 6))\n",
    "\n",
    "# recovered_raw.groupby('date').sum().plot(ax=axes[2,0])\n",
    "# recovered_raw.groupby('date').sum().plot(ax=axes[2,1], grid=True, logy=True, figsize=(12, 6))\n",
    "\n",
    "# plt.axis('tight')"
   ]
  },
  {
   "cell_type": "code",
   "execution_count": 56,
   "metadata": {},
   "outputs": [
    {
     "data": {
      "text/plain": [
       "<matplotlib.legend.Legend at 0x7f8ea48d49d0>"
      ]
     },
     "execution_count": 56,
     "metadata": {},
     "output_type": "execute_result"
    },
    {
     "data": {
      "image/png": "[encoded data removed]",
      "text/plain": [
       "<Figure size 864x432 with 1 Axes>"
      ]
     },
     "metadata": {
      "needs_background": "light"
     },
     "output_type": "display_data"
    }
   ],
   "source": [
    "fig = plt.figure(figsize=(12, 6))\n",
    "for frame, legend in [(confirmed_raw, 'confirmed'), (deaths_raw, 'deaths'), (recovered_raw, 'recovered')]:\n",
    "    plt.semilogy(frame.groupby('date').count().index, frame.groupby('date').sum(), label=legend)\n",
    "    \n",
    "plt.grid()\n",
    "plt.legend()"
   ]
  },
  {
   "cell_type": "code",
   "execution_count": 63,
   "metadata": {},
   "outputs": [
    {
     "data": {
      "image/png": "[encoded data removed]",
      "text/plain": [
       "<Figure size 864x432 with 1 Axes>"
      ]
     },
     "metadata": {
      "needs_background": "light"
     },
     "output_type": "display_data"
    }
   ],
   "source": [
    "df_plot = (confirmed_raw.groupby('date').sum().join(deaths_raw.groupby('date').sum(), on='date')).join(recovered_raw.groupby('date').sum(), on='date')\n",
    "df_plot.plot(grid=True, logy=True, figsize=(12, 6));"
   ]
  },
  {
   "cell_type": "code",
   "execution_count": null,
   "metadata": {},
   "outputs": [],
   "source": []
  },
  {
   "cell_type": "code",
   "execution_count": null,
   "metadata": {},
   "outputs": [],
   "source": []
  },
  {
   "cell_type": "code",
   "execution_count": null,
   "metadata": {},
   "outputs": [],
   "source": []
  },
  {
   "cell_type": "code",
   "execution_count": 5,
   "metadata": {},
   "outputs": [
    {
     "data": {
      "text/plain": [
       "country\n",
       "China             15960006117\n",
       "United Kingdom     3457512685\n",
       "France             2728688182\n",
       "US                  251474666\n",
       "Canada              140920892\n",
       "Netherlands         137383150\n",
       "Brazil              105274564\n",
       "Australia            68001472\n",
       "India                50882248\n",
       "Russia               50422601\n",
       "Spain                29124653\n",
       "Italy                28229006\n",
       "Name: confirmed, dtype: int64"
      ]
     },
     "execution_count": 5,
     "metadata": {},
     "output_type": "execute_result"
    }
   ],
   "source": [
    "groupedCountry = cases.groupby('country')\n",
    "groupedCountry.sum()['confirmed'].nlargest(12)"
   ]
  },
  {
   "cell_type": "code",
   "execution_count": 17,
   "metadata": {},
   "outputs": [
    {
     "data": {
      "text/plain": [
       "<AxesSubplot:ylabel='country'>"
      ]
     },
     "execution_count": 17,
     "metadata": {},
     "output_type": "execute_result"
    },
    {
     "data": {
      "image/png": "[encoded data removed]",
      "text/plain": [
       "<Figure size 864x360 with 1 Axes>"
      ]
     },
     "metadata": {
      "needs_background": "light"
     },
     "output_type": "display_data"
    }
   ],
   "source": [
    "groupedCountry.sum()['confirmed'].nlargest(6).plot(kind='barh', figsize=(12,5))"
   ]
  },
  {
   "cell_type": "code",
   "execution_count": 18,
   "metadata": {},
   "outputs": [
    {
     "data": {
      "text/plain": [
       "<AxesSubplot:ylabel='country'>"
      ]
     },
     "execution_count": 18,
     "metadata": {},
     "output_type": "execute_result"
    },
    {
     "data": {
      "image/png": "[encoded data removed]",
      "text/plain": [
       "<Figure size 864x360 with 1 Axes>"
      ]
     },
     "metadata": {
      "needs_background": "light"
     },
     "output_type": "display_data"
    }
   ],
   "source": [
    "groupedCountry.sum()['deaths'].nlargest(6).plot(kind='barh', figsize=(12,5))"
   ]
  },
  {
   "cell_type": "code",
   "execution_count": 19,
   "metadata": {},
   "outputs": [
    {
     "data": {
      "text/plain": [
       "<AxesSubplot:ylabel='country'>"
      ]
     },
     "execution_count": 19,
     "metadata": {},
     "output_type": "execute_result"
    },
    {
     "data": {
      "image/png": "[encoded data removed]",
      "text/plain": [
       "<Figure size 864x360 with 1 Axes>"
      ]
     },
     "metadata": {
      "needs_background": "light"
     },
     "output_type": "display_data"
    }
   ],
   "source": [
    "groupedCountry.sum()['recovered'].nlargest(6).plot(kind='barh', figsize=(12,5))"
   ]
  },
  {
   "cell_type": "code",
   "execution_count": null,
   "metadata": {},
   "outputs": [],
   "source": []
  },
  {
   "cell_type": "code",
   "execution_count": null,
   "metadata": {},
   "outputs": [],
   "source": []
  },
  {
   "cell_type": "code",
   "execution_count": null,
   "metadata": {},
   "outputs": [],
   "source": []
  },
  {
   "cell_type": "code",
   "execution_count": 4,
   "metadata": {},
   "outputs": [
    {
     "data": {
      "text/html": [
       "<div>\n",
       "<style scoped>\n",
       "    .dataframe tbody tr th:only-of-type {\n",
       "        vertical-align: middle;\n",
       "    }\n",
       "\n",
       "    .dataframe tbody tr th {\n",
       "        vertical-align: top;\n",
       "    }\n",
       "\n",
       "    .dataframe thead th {\n",
       "        text-align: right;\n",
       "    }\n",
       "</style>\n",
       "<table border=\"1\" class=\"dataframe\">\n",
       "  <thead>\n",
       "    <tr style=\"text-align: right;\">\n",
       "      <th></th>\n",
       "      <th>country</th>\n",
       "      <th>confirmed</th>\n",
       "      <th>recovered</th>\n",
       "      <th>deaths</th>\n",
       "    </tr>\n",
       "  </thead>\n",
       "  <tbody>\n",
       "    <tr>\n",
       "      <th>0</th>\n",
       "      <td>Afghanistan</td>\n",
       "      <td>2155866</td>\n",
       "      <td>950986</td>\n",
       "      <td>56749</td>\n",
       "    </tr>\n",
       "    <tr>\n",
       "      <th>1</th>\n",
       "      <td>Albania</td>\n",
       "      <td>228192</td>\n",
       "      <td>136310</td>\n",
       "      <td>6644</td>\n",
       "    </tr>\n",
       "    <tr>\n",
       "      <th>2</th>\n",
       "      <td>Algeria</td>\n",
       "      <td>1360239</td>\n",
       "      <td>877748</td>\n",
       "      <td>85196</td>\n",
       "    </tr>\n",
       "    <tr>\n",
       "      <th>3</th>\n",
       "      <td>Andorra</td>\n",
       "      <td>99926</td>\n",
       "      <td>73908</td>\n",
       "      <td>5735</td>\n",
       "    </tr>\n",
       "    <tr>\n",
       "      <th>4</th>\n",
       "      <td>Angola</td>\n",
       "      <td>29360</td>\n",
       "      <td>8893</td>\n",
       "      <td>1385</td>\n",
       "    </tr>\n",
       "  </tbody>\n",
       "</table>\n",
       "</div>"
      ],
      "text/plain": [
       "       country  confirmed  recovered  deaths\n",
       "0  Afghanistan    2155866     950986   56749\n",
       "1      Albania     228192     136310    6644\n",
       "2      Algeria    1360239     877748   85196\n",
       "3      Andorra      99926      73908    5735\n",
       "4       Angola      29360       8893    1385"
      ]
     },
     "execution_count": 4,
     "metadata": {},
     "output_type": "execute_result"
    }
   ],
   "source": [
    "# grouping the cases dataframe countrywise\n",
    "casesGrouped = groupedCountry.sum().reset_index()\n",
    "casesGrouped.head()"
   ]
  },
  {
   "cell_type": "code",
   "execution_count": null,
   "metadata": {},
   "outputs": [],
   "source": []
  },
  {
   "cell_type": "code",
   "execution_count": 5,
   "metadata": {},
   "outputs": [
    {
     "name": "stdout",
     "output_type": "stream",
     "text": [
      "['China', 'United Kingdom', 'France', 'US', 'Canada', 'Netherlands', 'Brazil', 'Australia', 'India', 'Russia', 'Spain', 'Italy']\n"
     ]
    }
   ],
   "source": [
    "topAffectedCountries = groupedCountry.sum()['confirmed'].nlargest(12).index.tolist()\n",
    "\n",
    "# bottomAffectedCountries = groupedCountry.sum()['Confirmed'].sort_values(ascending=True).head(50).index.tolist()\n",
    "print(topAffectedCountries)\n",
    "# print(bottomAffectedCountries)"
   ]
  },
  {
   "cell_type": "code",
   "execution_count": 6,
   "metadata": {},
   "outputs": [
    {
     "data": {
      "text/html": [
       "<div>\n",
       "<style scoped>\n",
       "    .dataframe tbody tr th:only-of-type {\n",
       "        vertical-align: middle;\n",
       "    }\n",
       "\n",
       "    .dataframe tbody tr th {\n",
       "        vertical-align: top;\n",
       "    }\n",
       "\n",
       "    .dataframe thead th {\n",
       "        text-align: right;\n",
       "    }\n",
       "</style>\n",
       "<table border=\"1\" class=\"dataframe\">\n",
       "  <thead>\n",
       "    <tr style=\"text-align: right;\">\n",
       "      <th></th>\n",
       "      <th>COUNTRY</th>\n",
       "      <th>POPULATION</th>\n",
       "      <th>BIRTH RATE</th>\n",
       "      <th>DEATH RATE</th>\n",
       "      <th>MEDIAN AGE</th>\n",
       "      <th>GDP</th>\n",
       "      <th>UNEMPLOYMENT RATE</th>\n",
       "    </tr>\n",
       "  </thead>\n",
       "  <tbody>\n",
       "    <tr>\n",
       "      <th>0</th>\n",
       "      <td>Afghanistan</td>\n",
       "      <td>36643815.0</td>\n",
       "      <td>36.7</td>\n",
       "      <td>12.7</td>\n",
       "      <td>19.5</td>\n",
       "      <td>2000.0</td>\n",
       "      <td>23.9</td>\n",
       "    </tr>\n",
       "    <tr>\n",
       "      <th>1</th>\n",
       "      <td>Albania</td>\n",
       "      <td>3074579.0</td>\n",
       "      <td>13.0</td>\n",
       "      <td>7.1</td>\n",
       "      <td>34.3</td>\n",
       "      <td>12500.0</td>\n",
       "      <td>13.8</td>\n",
       "    </tr>\n",
       "    <tr>\n",
       "      <th>2</th>\n",
       "      <td>Algeria</td>\n",
       "      <td>42972878.0</td>\n",
       "      <td>20.0</td>\n",
       "      <td>4.4</td>\n",
       "      <td>28.9</td>\n",
       "      <td>15200.0</td>\n",
       "      <td>11.7</td>\n",
       "    </tr>\n",
       "  </tbody>\n",
       "</table>\n",
       "</div>"
      ],
      "text/plain": [
       "       COUNTRY  POPULATION  BIRTH RATE  DEATH RATE  MEDIAN AGE      GDP  \\\n",
       "0  Afghanistan  36643815.0        36.7        12.7        19.5   2000.0   \n",
       "1      Albania   3074579.0        13.0         7.1        34.3  12500.0   \n",
       "2      Algeria  42972878.0        20.0         4.4        28.9  15200.0   \n",
       "\n",
       "   UNEMPLOYMENT RATE  \n",
       "0               23.9  \n",
       "1               13.8  \n",
       "2               11.7  "
      ]
     },
     "execution_count": 6,
     "metadata": {},
     "output_type": "execute_result"
    }
   ],
   "source": [
    "demographics = pd.read_csv('countries_data.csv', index_col=0)\n",
    "demographics.head(3)"
   ]
  },
  {
   "cell_type": "code",
   "execution_count": 7,
   "metadata": {},
   "outputs": [
    {
     "data": {
      "text/plain": [
       "{'Australia',\n",
       " 'Brazil',\n",
       " 'Canada',\n",
       " 'China',\n",
       " 'France',\n",
       " 'India',\n",
       " 'Italy',\n",
       " 'Netherlands',\n",
       " 'Russia',\n",
       " 'Spain',\n",
       " 'US',\n",
       " 'United Kingdom'}"
      ]
     },
     "execution_count": 7,
     "metadata": {},
     "output_type": "execute_result"
    }
   ],
   "source": [
    "demographics['COUNTRY'] = demographics['COUNTRY'].apply(lambda country: 'US' if country == 'United States' else country)\n",
    "set(demographics['COUNTRY'].values.tolist()).intersection(set(topAffectedCountries))"
   ]
  },
  {
   "cell_type": "code",
   "execution_count": null,
   "metadata": {},
   "outputs": [],
   "source": []
  },
  {
   "cell_type": "code",
   "execution_count": 8,
   "metadata": {},
   "outputs": [
    {
     "data": {
      "text/html": [
       "<div>\n",
       "<style scoped>\n",
       "    .dataframe tbody tr th:only-of-type {\n",
       "        vertical-align: middle;\n",
       "    }\n",
       "\n",
       "    .dataframe tbody tr th {\n",
       "        vertical-align: top;\n",
       "    }\n",
       "\n",
       "    .dataframe thead th {\n",
       "        text-align: right;\n",
       "    }\n",
       "</style>\n",
       "<table border=\"1\" class=\"dataframe\">\n",
       "  <thead>\n",
       "    <tr style=\"text-align: right;\">\n",
       "      <th></th>\n",
       "      <th>country</th>\n",
       "      <th>confirmed</th>\n",
       "      <th>recovered</th>\n",
       "      <th>deaths</th>\n",
       "    </tr>\n",
       "  </thead>\n",
       "  <tbody>\n",
       "    <tr>\n",
       "      <th>0</th>\n",
       "      <td>Australia</td>\n",
       "      <td>68001472</td>\n",
       "      <td>49390848</td>\n",
       "      <td>804992</td>\n",
       "    </tr>\n",
       "    <tr>\n",
       "      <th>1</th>\n",
       "      <td>Brazil</td>\n",
       "      <td>105274564</td>\n",
       "      <td>66350943</td>\n",
       "      <td>4488112</td>\n",
       "    </tr>\n",
       "    <tr>\n",
       "      <th>2</th>\n",
       "      <td>Canada</td>\n",
       "      <td>140920892</td>\n",
       "      <td>1202373956</td>\n",
       "      <td>10549602</td>\n",
       "    </tr>\n",
       "    <tr>\n",
       "      <th>3</th>\n",
       "      <td>China</td>\n",
       "      <td>15960006117</td>\n",
       "      <td>13288781682</td>\n",
       "      <td>762718176</td>\n",
       "    </tr>\n",
       "    <tr>\n",
       "      <th>4</th>\n",
       "      <td>France</td>\n",
       "      <td>2728688182</td>\n",
       "      <td>928302683</td>\n",
       "      <td>390832541</td>\n",
       "    </tr>\n",
       "    <tr>\n",
       "      <th>5</th>\n",
       "      <td>India</td>\n",
       "      <td>50882248</td>\n",
       "      <td>30273038</td>\n",
       "      <td>1328707</td>\n",
       "    </tr>\n",
       "    <tr>\n",
       "      <th>6</th>\n",
       "      <td>Italy</td>\n",
       "      <td>28229006</td>\n",
       "      <td>16872156</td>\n",
       "      <td>3918542</td>\n",
       "    </tr>\n",
       "    <tr>\n",
       "      <th>7</th>\n",
       "      <td>Netherlands</td>\n",
       "      <td>137383150</td>\n",
       "      <td>466950</td>\n",
       "      <td>16483275</td>\n",
       "    </tr>\n",
       "    <tr>\n",
       "      <th>8</th>\n",
       "      <td>Russia</td>\n",
       "      <td>50422601</td>\n",
       "      <td>28910737</td>\n",
       "      <td>702373</td>\n",
       "    </tr>\n",
       "    <tr>\n",
       "      <th>9</th>\n",
       "      <td>Spain</td>\n",
       "      <td>29124653</td>\n",
       "      <td>15995839</td>\n",
       "      <td>3203687</td>\n",
       "    </tr>\n",
       "    <tr>\n",
       "      <th>10</th>\n",
       "      <td>US</td>\n",
       "      <td>251474666</td>\n",
       "      <td>64881093</td>\n",
       "      <td>11926284</td>\n",
       "    </tr>\n",
       "    <tr>\n",
       "      <th>11</th>\n",
       "      <td>United Kingdom</td>\n",
       "      <td>3457512685</td>\n",
       "      <td>16317455</td>\n",
       "      <td>517230956</td>\n",
       "    </tr>\n",
       "  </tbody>\n",
       "</table>\n",
       "</div>"
      ],
      "text/plain": [
       "           country    confirmed    recovered     deaths\n",
       "0        Australia     68001472     49390848     804992\n",
       "1           Brazil    105274564     66350943    4488112\n",
       "2           Canada    140920892   1202373956   10549602\n",
       "3            China  15960006117  13288781682  762718176\n",
       "4           France   2728688182    928302683  390832541\n",
       "5            India     50882248     30273038    1328707\n",
       "6            Italy     28229006     16872156    3918542\n",
       "7      Netherlands    137383150       466950   16483275\n",
       "8           Russia     50422601     28910737     702373\n",
       "9            Spain     29124653     15995839    3203687\n",
       "10              US    251474666     64881093   11926284\n",
       "11  United Kingdom   3457512685     16317455  517230956"
      ]
     },
     "execution_count": 8,
     "metadata": {},
     "output_type": "execute_result"
    }
   ],
   "source": [
    "casesTop = casesGrouped[casesGrouped['country'].isin(topAffectedCountries)].reset_index(drop=True)\n",
    "\n",
    "# _ = list(set(demographics['COUNTRY'].values.tolist()).intersection(set(topAffectedCountries)))\n",
    "# casesTop = casesTop[casesTop['country'].isin(_)]\n",
    "casesTop"
   ]
  },
  {
   "cell_type": "code",
   "execution_count": 9,
   "metadata": {},
   "outputs": [
    {
     "data": {
      "text/html": [
       "<div>\n",
       "<style scoped>\n",
       "    .dataframe tbody tr th:only-of-type {\n",
       "        vertical-align: middle;\n",
       "    }\n",
       "\n",
       "    .dataframe tbody tr th {\n",
       "        vertical-align: top;\n",
       "    }\n",
       "\n",
       "    .dataframe thead th {\n",
       "        text-align: right;\n",
       "    }\n",
       "</style>\n",
       "<table border=\"1\" class=\"dataframe\">\n",
       "  <thead>\n",
       "    <tr style=\"text-align: right;\">\n",
       "      <th></th>\n",
       "      <th>country</th>\n",
       "      <th>confirmed</th>\n",
       "      <th>recovered</th>\n",
       "      <th>deaths</th>\n",
       "      <th>median_age</th>\n",
       "    </tr>\n",
       "  </thead>\n",
       "  <tbody>\n",
       "    <tr>\n",
       "      <th>0</th>\n",
       "      <td>Australia</td>\n",
       "      <td>68001472</td>\n",
       "      <td>49390848</td>\n",
       "      <td>804992</td>\n",
       "      <td>37.5</td>\n",
       "    </tr>\n",
       "    <tr>\n",
       "      <th>1</th>\n",
       "      <td>Brazil</td>\n",
       "      <td>105274564</td>\n",
       "      <td>66350943</td>\n",
       "      <td>4488112</td>\n",
       "      <td>33.2</td>\n",
       "    </tr>\n",
       "    <tr>\n",
       "      <th>2</th>\n",
       "      <td>Canada</td>\n",
       "      <td>140920892</td>\n",
       "      <td>1202373956</td>\n",
       "      <td>10549602</td>\n",
       "      <td>41.8</td>\n",
       "    </tr>\n",
       "    <tr>\n",
       "      <th>3</th>\n",
       "      <td>China</td>\n",
       "      <td>15960006117</td>\n",
       "      <td>13288781682</td>\n",
       "      <td>762718176</td>\n",
       "      <td>38.4</td>\n",
       "    </tr>\n",
       "    <tr>\n",
       "      <th>4</th>\n",
       "      <td>France</td>\n",
       "      <td>2728688182</td>\n",
       "      <td>928302683</td>\n",
       "      <td>390832541</td>\n",
       "      <td>41.7</td>\n",
       "    </tr>\n",
       "    <tr>\n",
       "      <th>5</th>\n",
       "      <td>India</td>\n",
       "      <td>50882248</td>\n",
       "      <td>30273038</td>\n",
       "      <td>1328707</td>\n",
       "      <td>28.7</td>\n",
       "    </tr>\n",
       "    <tr>\n",
       "      <th>6</th>\n",
       "      <td>Italy</td>\n",
       "      <td>28229006</td>\n",
       "      <td>16872156</td>\n",
       "      <td>3918542</td>\n",
       "      <td>46.5</td>\n",
       "    </tr>\n",
       "    <tr>\n",
       "      <th>7</th>\n",
       "      <td>Netherlands</td>\n",
       "      <td>137383150</td>\n",
       "      <td>466950</td>\n",
       "      <td>16483275</td>\n",
       "      <td>42.8</td>\n",
       "    </tr>\n",
       "    <tr>\n",
       "      <th>8</th>\n",
       "      <td>Russia</td>\n",
       "      <td>50422601</td>\n",
       "      <td>28910737</td>\n",
       "      <td>702373</td>\n",
       "      <td>40.3</td>\n",
       "    </tr>\n",
       "    <tr>\n",
       "      <th>9</th>\n",
       "      <td>Spain</td>\n",
       "      <td>29124653</td>\n",
       "      <td>15995839</td>\n",
       "      <td>3203687</td>\n",
       "      <td>43.9</td>\n",
       "    </tr>\n",
       "    <tr>\n",
       "      <th>10</th>\n",
       "      <td>US</td>\n",
       "      <td>251474666</td>\n",
       "      <td>64881093</td>\n",
       "      <td>11926284</td>\n",
       "      <td>38.5</td>\n",
       "    </tr>\n",
       "    <tr>\n",
       "      <th>11</th>\n",
       "      <td>United Kingdom</td>\n",
       "      <td>3457512685</td>\n",
       "      <td>16317455</td>\n",
       "      <td>517230956</td>\n",
       "      <td>40.6</td>\n",
       "    </tr>\n",
       "  </tbody>\n",
       "</table>\n",
       "</div>"
      ],
      "text/plain": [
       "           country    confirmed    recovered     deaths  median_age\n",
       "0        Australia     68001472     49390848     804992        37.5\n",
       "1           Brazil    105274564     66350943    4488112        33.2\n",
       "2           Canada    140920892   1202373956   10549602        41.8\n",
       "3            China  15960006117  13288781682  762718176        38.4\n",
       "4           France   2728688182    928302683  390832541        41.7\n",
       "5            India     50882248     30273038    1328707        28.7\n",
       "6            Italy     28229006     16872156    3918542        46.5\n",
       "7      Netherlands    137383150       466950   16483275        42.8\n",
       "8           Russia     50422601     28910737     702373        40.3\n",
       "9            Spain     29124653     15995839    3203687        43.9\n",
       "10              US    251474666     64881093   11926284        38.5\n",
       "11  United Kingdom   3457512685     16317455  517230956        40.6"
      ]
     },
     "execution_count": 9,
     "metadata": {},
     "output_type": "execute_result"
    }
   ],
   "source": [
    "casesTop['median_age'] = casesTop['country'].apply(lambda country: demographics[demographics['COUNTRY']==country]['MEDIAN AGE'].values[0]).tolist()\n",
    "casesTop"
   ]
  },
  {
   "cell_type": "code",
   "execution_count": 10,
   "metadata": {},
   "outputs": [],
   "source": [
    "def get_ageCategories(age):\n",
    "    if age>0 and age<=20:\n",
    "        return '0-20'\n",
    "    elif age>20 and age<=30:\n",
    "        return '21-30'\n",
    "    elif age>30 and age<=40:\n",
    "        return '31-40'\n",
    "    elif age>40 and age<=50:\n",
    "        return '41-50'\n",
    "    elif age>50 and age<=60:\n",
    "        return '51-60'\n",
    "    \n",
    "\n",
    "casesTop['median_age_cat.'] = casesTop['median_age'].apply(get_ageCategories)"
   ]
  },
  {
   "cell_type": "code",
   "execution_count": 11,
   "metadata": {},
   "outputs": [
    {
     "data": {
      "text/plain": [
       "<matplotlib.axes._subplots.AxesSubplot at 0x7f57f97ec880>"
      ]
     },
     "execution_count": 11,
     "metadata": {},
     "output_type": "execute_result"
    },
    {
     "data": {
      "image/png": "[encoded data removed]",
      "text/plain": [
       "<Figure size 432x288 with 1 Axes>"
      ]
     },
     "metadata": {
      "needs_background": "light"
     },
     "output_type": "display_data"
    }
   ],
   "source": [
    "sns.countplot(casesTop['median_age_cat.'])"
   ]
  },
  {
   "cell_type": "code",
   "execution_count": 12,
   "metadata": {},
   "outputs": [
    {
     "data": {
      "text/html": [
       "<div>\n",
       "<style scoped>\n",
       "    .dataframe tbody tr th:only-of-type {\n",
       "        vertical-align: middle;\n",
       "    }\n",
       "\n",
       "    .dataframe tbody tr th {\n",
       "        vertical-align: top;\n",
       "    }\n",
       "\n",
       "    .dataframe thead th {\n",
       "        text-align: right;\n",
       "    }\n",
       "</style>\n",
       "<table border=\"1\" class=\"dataframe\">\n",
       "  <thead>\n",
       "    <tr style=\"text-align: right;\">\n",
       "      <th></th>\n",
       "      <th>US</th>\n",
       "      <th>Brazil</th>\n",
       "      <th>Russia</th>\n",
       "      <th>India</th>\n",
       "      <th>Spain</th>\n",
       "      <th>United Kingdom</th>\n",
       "    </tr>\n",
       "    <tr>\n",
       "      <th>Location</th>\n",
       "      <th></th>\n",
       "      <th></th>\n",
       "      <th></th>\n",
       "      <th></th>\n",
       "      <th></th>\n",
       "      <th></th>\n",
       "    </tr>\n",
       "  </thead>\n",
       "  <tbody>\n",
       "    <tr>\n",
       "      <th>0-4</th>\n",
       "      <td>19676</td>\n",
       "      <td>14475</td>\n",
       "      <td>9272</td>\n",
       "      <td>116880</td>\n",
       "      <td>1990</td>\n",
       "      <td>3924</td>\n",
       "    </tr>\n",
       "    <tr>\n",
       "      <th>5-9</th>\n",
       "      <td>20045</td>\n",
       "      <td>14602</td>\n",
       "      <td>9351</td>\n",
       "      <td>117982</td>\n",
       "      <td>2244</td>\n",
       "      <td>4120</td>\n",
       "    </tr>\n",
       "    <tr>\n",
       "      <th>10-14</th>\n",
       "      <td>21089</td>\n",
       "      <td>14942</td>\n",
       "      <td>8174</td>\n",
       "      <td>126156</td>\n",
       "      <td>2498</td>\n",
       "      <td>3956</td>\n",
       "    </tr>\n",
       "    <tr>\n",
       "      <th>15-19</th>\n",
       "      <td>21243</td>\n",
       "      <td>16218</td>\n",
       "      <td>7082</td>\n",
       "      <td>126046</td>\n",
       "      <td>2238</td>\n",
       "      <td>3686</td>\n",
       "    </tr>\n",
       "    <tr>\n",
       "      <th>20-24</th>\n",
       "      <td>22259</td>\n",
       "      <td>17152</td>\n",
       "      <td>6615</td>\n",
       "      <td>122505</td>\n",
       "      <td>2256</td>\n",
       "      <td>4075</td>\n",
       "    </tr>\n",
       "    <tr>\n",
       "      <th>25-29</th>\n",
       "      <td>23835</td>\n",
       "      <td>16953</td>\n",
       "      <td>8993</td>\n",
       "      <td>117397</td>\n",
       "      <td>2362</td>\n",
       "      <td>4484</td>\n",
       "    </tr>\n",
       "    <tr>\n",
       "      <th>30-34</th>\n",
       "      <td>23052</td>\n",
       "      <td>17148</td>\n",
       "      <td>12544</td>\n",
       "      <td>112176</td>\n",
       "      <td>2619</td>\n",
       "      <td>4707</td>\n",
       "    </tr>\n",
       "    <tr>\n",
       "      <th>35-39</th>\n",
       "      <td>21616</td>\n",
       "      <td>17329</td>\n",
       "      <td>11925</td>\n",
       "      <td>103460</td>\n",
       "      <td>3283</td>\n",
       "      <td>4588</td>\n",
       "    </tr>\n",
       "    <tr>\n",
       "      <th>40-44</th>\n",
       "      <td>20295</td>\n",
       "      <td>15661</td>\n",
       "      <td>10605</td>\n",
       "      <td>90220</td>\n",
       "      <td>4001</td>\n",
       "      <td>4308</td>\n",
       "    </tr>\n",
       "    <tr>\n",
       "      <th>45-49</th>\n",
       "      <td>20054</td>\n",
       "      <td>13801</td>\n",
       "      <td>9771</td>\n",
       "      <td>79440</td>\n",
       "      <td>3938</td>\n",
       "      <td>4296</td>\n",
       "    </tr>\n",
       "    <tr>\n",
       "      <th>50-54</th>\n",
       "      <td>20578</td>\n",
       "      <td>12823</td>\n",
       "      <td>8480</td>\n",
       "      <td>68876</td>\n",
       "      <td>3632</td>\n",
       "      <td>4635</td>\n",
       "    </tr>\n",
       "    <tr>\n",
       "      <th>55-59</th>\n",
       "      <td>21542</td>\n",
       "      <td>11598</td>\n",
       "      <td>10418</td>\n",
       "      <td>59256</td>\n",
       "      <td>3414</td>\n",
       "      <td>4539</td>\n",
       "    </tr>\n",
       "    <tr>\n",
       "      <th>60-64</th>\n",
       "      <td>20669</td>\n",
       "      <td>9468</td>\n",
       "      <td>10074</td>\n",
       "      <td>48891</td>\n",
       "      <td>2939</td>\n",
       "      <td>3905</td>\n",
       "    </tr>\n",
       "    <tr>\n",
       "      <th>65-69</th>\n",
       "      <td>17819</td>\n",
       "      <td>7429</td>\n",
       "      <td>8428</td>\n",
       "      <td>38260</td>\n",
       "      <td>2401</td>\n",
       "      <td>3382</td>\n",
       "    </tr>\n",
       "    <tr>\n",
       "      <th>70-74</th>\n",
       "      <td>14355</td>\n",
       "      <td>5309</td>\n",
       "      <td>5390</td>\n",
       "      <td>24091</td>\n",
       "      <td>2204</td>\n",
       "      <td>3388</td>\n",
       "    </tr>\n",
       "    <tr>\n",
       "      <th>75-79</th>\n",
       "      <td>9728</td>\n",
       "      <td>3492</td>\n",
       "      <td>3159</td>\n",
       "      <td>15084</td>\n",
       "      <td>1811</td>\n",
       "      <td>2442</td>\n",
       "    </tr>\n",
       "    <tr>\n",
       "      <th>80-84</th>\n",
       "      <td>6461</td>\n",
       "      <td>2317</td>\n",
       "      <td>3486</td>\n",
       "      <td>8489</td>\n",
       "      <td>1288</td>\n",
       "      <td>1737</td>\n",
       "    </tr>\n",
       "    <tr>\n",
       "      <th>85-89</th>\n",
       "      <td>3911</td>\n",
       "      <td>1175</td>\n",
       "      <td>1390</td>\n",
       "      <td>3531</td>\n",
       "      <td>1039</td>\n",
       "      <td>1078</td>\n",
       "    </tr>\n",
       "    <tr>\n",
       "      <th>90-94</th>\n",
       "      <td>2051</td>\n",
       "      <td>511</td>\n",
       "      <td>668</td>\n",
       "      <td>993</td>\n",
       "      <td>471</td>\n",
       "      <td>491</td>\n",
       "    </tr>\n",
       "    <tr>\n",
       "      <th>95-99</th>\n",
       "      <td>627</td>\n",
       "      <td>135</td>\n",
       "      <td>102</td>\n",
       "      <td>223</td>\n",
       "      <td>112</td>\n",
       "      <td>130</td>\n",
       "    </tr>\n",
       "    <tr>\n",
       "      <th>100+</th>\n",
       "      <td>97</td>\n",
       "      <td>21</td>\n",
       "      <td>9</td>\n",
       "      <td>48</td>\n",
       "      <td>13</td>\n",
       "      <td>16</td>\n",
       "    </tr>\n",
       "  </tbody>\n",
       "</table>\n",
       "</div>"
      ],
      "text/plain": [
       "             US  Brazil  Russia   India  Spain  United Kingdom\n",
       "Location                                                      \n",
       "0-4       19676   14475    9272  116880   1990            3924\n",
       "5-9       20045   14602    9351  117982   2244            4120\n",
       "10-14     21089   14942    8174  126156   2498            3956\n",
       "15-19     21243   16218    7082  126046   2238            3686\n",
       "20-24     22259   17152    6615  122505   2256            4075\n",
       "25-29     23835   16953    8993  117397   2362            4484\n",
       "30-34     23052   17148   12544  112176   2619            4707\n",
       "35-39     21616   17329   11925  103460   3283            4588\n",
       "40-44     20295   15661   10605   90220   4001            4308\n",
       "45-49     20054   13801    9771   79440   3938            4296\n",
       "50-54     20578   12823    8480   68876   3632            4635\n",
       "55-59     21542   11598   10418   59256   3414            4539\n",
       "60-64     20669    9468   10074   48891   2939            3905\n",
       "65-69     17819    7429    8428   38260   2401            3382\n",
       "70-74     14355    5309    5390   24091   2204            3388\n",
       "75-79      9728    3492    3159   15084   1811            2442\n",
       "80-84      6461    2317    3486    8489   1288            1737\n",
       "85-89      3911    1175    1390    3531   1039            1078\n",
       "90-94      2051     511     668     993    471             491\n",
       "95-99       627     135     102     223    112             130\n",
       "100+         97      21       9      48     13              16"
      ]
     },
     "execution_count": 12,
     "metadata": {},
     "output_type": "execute_result"
    }
   ],
   "source": [
    "# data give in the units of thousands\n",
    "# https://population.un.org/wpp/DataQuery/\n",
    "    \n",
    "ageData = pd.read_csv('ageDistribution.csv', index_col=0)\n",
    "ageData"
   ]
  },
  {
   "cell_type": "code",
   "execution_count": 13,
   "metadata": {},
   "outputs": [
    {
     "data": {
      "text/plain": [
       "Text(0, 0.5, '[Population] thousands')"
      ]
     },
     "execution_count": 13,
     "metadata": {},
     "output_type": "execute_result"
    },
    {
     "data": {
      "image/png": "[encoded data removed]",
      "text/plain": [
       "<Figure size 864x432 with 1 Axes>"
      ]
     },
     "metadata": {
      "needs_background": "light"
     },
     "output_type": "display_data"
    }
   ],
   "source": [
    "ax = ageData.plot(figsize=(12,6), grid=True)\n",
    "# ax.set_xticklabels(ageData['Age Group']);\n",
    "# ax.set_xlabel('[Age Groups]')\n",
    "ax.set_ylabel('[Population] thousands')"
   ]
  },
  {
   "cell_type": "code",
   "execution_count": null,
   "metadata": {},
   "outputs": [],
   "source": []
  },
  {
   "cell_type": "code",
   "execution_count": 14,
   "metadata": {},
   "outputs": [],
   "source": [
    "for country in ageData.columns.tolist():\n",
    "    ageData[country] = ageData[country]/ageData[country].sum()"
   ]
  },
  {
   "cell_type": "code",
   "execution_count": 15,
   "metadata": {},
   "outputs": [
    {
     "data": {
      "text/html": [
       "<div>\n",
       "<style scoped>\n",
       "    .dataframe tbody tr th:only-of-type {\n",
       "        vertical-align: middle;\n",
       "    }\n",
       "\n",
       "    .dataframe tbody tr th {\n",
       "        vertical-align: top;\n",
       "    }\n",
       "\n",
       "    .dataframe thead th {\n",
       "        text-align: right;\n",
       "    }\n",
       "</style>\n",
       "<table border=\"1\" class=\"dataframe\">\n",
       "  <thead>\n",
       "    <tr style=\"text-align: right;\">\n",
       "      <th></th>\n",
       "      <th>US</th>\n",
       "      <th>Brazil</th>\n",
       "      <th>Russia</th>\n",
       "      <th>India</th>\n",
       "      <th>Spain</th>\n",
       "      <th>United Kingdom</th>\n",
       "    </tr>\n",
       "  </thead>\n",
       "  <tbody>\n",
       "    <tr>\n",
       "      <th>16</th>\n",
       "      <td>0.020242</td>\n",
       "      <td>0.010952</td>\n",
       "      <td>0.018353</td>\n",
       "      <td>0.006547</td>\n",
       "      <td>0.029503</td>\n",
       "      <td>0.025813</td>\n",
       "    </tr>\n",
       "    <tr>\n",
       "      <th>17</th>\n",
       "      <td>0.012510</td>\n",
       "      <td>0.006277</td>\n",
       "      <td>0.012663</td>\n",
       "      <td>0.003143</td>\n",
       "      <td>0.019949</td>\n",
       "      <td>0.016233</td>\n",
       "    </tr>\n",
       "    <tr>\n",
       "      <th>18</th>\n",
       "      <td>0.006635</td>\n",
       "      <td>0.002856</td>\n",
       "      <td>0.004934</td>\n",
       "      <td>0.001147</td>\n",
       "      <td>0.011564</td>\n",
       "      <td>0.008342</td>\n",
       "    </tr>\n",
       "    <tr>\n",
       "      <th>19</th>\n",
       "      <td>0.002795</td>\n",
       "      <td>0.001046</td>\n",
       "      <td>0.001779</td>\n",
       "      <td>0.000305</td>\n",
       "      <td>0.004249</td>\n",
       "      <td>0.003128</td>\n",
       "    </tr>\n",
       "    <tr>\n",
       "      <th>20</th>\n",
       "      <td>-0.000157</td>\n",
       "      <td>-0.000107</td>\n",
       "      <td>-0.000479</td>\n",
       "      <td>-0.000037</td>\n",
       "      <td>-0.000649</td>\n",
       "      <td>-0.000371</td>\n",
       "    </tr>\n",
       "  </tbody>\n",
       "</table>\n",
       "</div>"
      ],
      "text/plain": [
       "          US    Brazil    Russia     India     Spain  United Kingdom\n",
       "16  0.020242  0.010952  0.018353  0.006547  0.029503        0.025813\n",
       "17  0.012510  0.006277  0.012663  0.003143  0.019949        0.016233\n",
       "18  0.006635  0.002856  0.004934  0.001147  0.011564        0.008342\n",
       "19  0.002795  0.001046  0.001779  0.000305  0.004249        0.003128\n",
       "20 -0.000157 -0.000107 -0.000479 -0.000037 -0.000649       -0.000371"
      ]
     },
     "execution_count": 15,
     "metadata": {},
     "output_type": "execute_result"
    }
   ],
   "source": [
    "from scipy import signal\n",
    "\n",
    "data = {country: signal.savgol_filter(ageData[country], window_length=3, polyorder=1) \n",
    "        for country in ageData.columns.tolist()}\n",
    "filtered = pd.DataFrame(data) \n",
    "filtered.tail()"
   ]
  },
  {
   "cell_type": "code",
   "execution_count": null,
   "metadata": {},
   "outputs": [],
   "source": []
  },
  {
   "cell_type": "code",
   "execution_count": 16,
   "metadata": {},
   "outputs": [
    {
     "data": {
      "image/png": "[encoded data removed]",
      "text/plain": [
       "<Figure size 1152x288 with 1 Axes>"
      ]
     },
     "metadata": {
      "needs_background": "light"
     },
     "output_type": "display_data"
    }
   ],
   "source": [
    "ax = ageData.plot(figsize=(16,4), grid=True)\n",
    "ax.set_ylabel('[normalized Population]');"
   ]
  },
  {
   "cell_type": "code",
   "execution_count": 17,
   "metadata": {},
   "outputs": [
    {
     "data": {
      "image/png": "[encoded data removed]",
      "text/plain": [
       "<Figure size 1152x288 with 1 Axes>"
      ]
     },
     "metadata": {
      "needs_background": "light"
     },
     "output_type": "display_data"
    }
   ],
   "source": [
    "ax = filtered.plot(figsize=(16,4), grid=True)\n",
    "ax.set_ylabel('[normalized Population]');"
   ]
  },
  {
   "cell_type": "code",
   "execution_count": 20,
   "metadata": {},
   "outputs": [
    {
     "data": {
      "text/plain": [
       "(188, 194)"
      ]
     },
     "execution_count": 20,
     "metadata": {},
     "output_type": "execute_result"
    }
   ],
   "source": [
    "cou"
   ]
  },
  {
   "cell_type": "code",
   "execution_count": null,
   "metadata": {},
   "outputs": [
    {
     "name": "stdout",
     "output_type": "stream",
     "text": [
      "Afghanistan done!\n",
      "Albania done!\n",
      "Algeria done!\n",
      "Andorra done!\n",
      "Angola done!\n",
      "Antigua and Barbuda done!\n",
      "Argentina done!\n",
      "Armenia done!\n",
      "Australia done!\n",
      "Austria done!\n",
      "Azerbaijan done!\n",
      "Ignoring Bahamas as population data not available!\n",
      "Bahamas done!\n",
      "Bahrain done!\n",
      "Bangladesh done!\n",
      "Barbados done!\n",
      "Belarus done!\n",
      "Belgium done!\n",
      "Belize done!\n",
      "Benin done!\n",
      "Bhutan done!\n",
      "Bolivia done!\n",
      "Bosnia and Herzegovina done!\n",
      "Botswana done!\n",
      "Brazil done!\n",
      "Brunei done!\n",
      "Bulgaria done!\n",
      "Burkina Faso done!\n",
      "Burma done!\n",
      "Ignoring Burundi as population data not available!\n",
      "Burundi done!\n",
      "Cabo Verde done!\n",
      "Cambodia done!\n",
      "Cameroon done!\n",
      "Canada done!\n",
      "Central African Republic done!\n",
      "Ignoring Chad as population data not available!\n",
      "Chad done!\n",
      "Chile done!\n",
      "China done!\n",
      "Colombia done!\n",
      "Comoros done!\n",
      "Ignoring Congo (Brazzaville) as population data not available!\n",
      "Congo (Brazzaville) done!\n",
      "Ignoring Congo (Kinshasa) as population data not available!\n",
      "Congo (Kinshasa) done!\n",
      "Costa Rica done!\n",
      "Cote d'Ivoire done!\n",
      "Croatia done!\n",
      "Cuba done!\n",
      "Cyprus done!\n",
      "Czechia done!\n",
      "Denmark done!\n",
      "Ignoring Diamond Princess as population data not available!\n",
      "Diamond Princess done!\n",
      "Djibouti done!\n",
      "Dominica done!\n",
      "Dominican Republic done!\n",
      "Ecuador done!\n",
      "Egypt done!\n",
      "El Salvador done!\n",
      "Equatorial Guinea done!\n",
      "Eritrea done!\n",
      "Estonia done!\n",
      "Eswatini done!\n",
      "Ethiopia done!\n",
      "Fiji done!\n",
      "Finland done!\n",
      "France done!\n",
      "Gabon done!\n",
      "Ignoring Gambia as population data not available!\n",
      "Gambia done!\n",
      "Georgia done!\n",
      "Germany done!\n",
      "Ghana done!\n",
      "Greece done!\n",
      "Grenada done!\n",
      "Guatemala done!\n",
      "Guinea done!\n",
      "Ignoring Guinea-Bissau as population data not available!\n",
      "Guinea-Bissau done!\n",
      "Guyana done!\n",
      "Haiti done!\n",
      "Ignoring Holy See as population data not available!\n",
      "Holy See done!\n",
      "Honduras done!\n",
      "Hungary done!\n",
      "Iceland done!\n",
      "India done!\n",
      "Indonesia done!\n",
      "Iran done!\n",
      "Iraq done!\n",
      "Ireland done!\n",
      "Israel done!\n",
      "Italy done!\n",
      "Jamaica done!\n",
      "Japan done!\n",
      "Jordan done!\n",
      "Kazakhstan done!\n",
      "Kenya done!\n",
      "Korea, South done!\n",
      "Kosovo done!\n",
      "Kuwait done!\n",
      "Kyrgyzstan done!\n",
      "Laos done!\n",
      "Latvia done!\n",
      "Lebanon done!\n",
      "Lesotho done!\n",
      "Liberia done!\n",
      "Libya done!\n",
      "Ignoring Liechtenstein as population data not available!\n",
      "Liechtenstein done!\n",
      "Lithuania done!\n",
      "Ignoring Luxembourg as population data not available!\n",
      "Luxembourg done!\n",
      "Ignoring MS Zaandam as population data not available!\n",
      "MS Zaandam done!\n",
      "Ignoring Madagascar as population data not available!\n",
      "Madagascar done!\n",
      "Malawi done!\n",
      "Malaysia done!\n",
      "Maldives done!\n"
     ]
    }
   ],
   "source": [
    "import time\n",
    "start = time.time()\n",
    "\n",
    "countries = sorted(cases['country'].unique())\n",
    "dates = cases['date'].sort_values().unique()\n",
    "\n",
    "f_data = {'date': dates}\n",
    "for country in countries:\n",
    "    f = []\n",
    "    for date in dates:\n",
    "        try:\n",
    "            num = cases[(cases['date']==date) & (cases['country']==country)]['confirmed'].values[0]\n",
    "            den = demographics[demographics['COUNTRY']==country]['POPULATION'].values[0]\n",
    "            f.append(num/den)\n",
    "        except:\n",
    "            print('Ignoring {} as population data not available!'.format(country))\n",
    "            break\n",
    "    f_data[country] = f\n",
    "    print('{} done!'.format(country))\n",
    "    \n",
    "f_df = pd.DataFrame(f_data)\n",
    "f_df\n",
    "\n",
    "end = time.time()\n",
    "print('Finished in {} secs.'.format(end-start))"
   ]
  },
  {
   "cell_type": "code",
   "execution_count": 19,
   "metadata": {},
   "outputs": [
    {
     "data": {
      "text/plain": [
       "False"
      ]
     },
     "execution_count": 19,
     "metadata": {},
     "output_type": "execute_result"
    }
   ],
   "source": [
    "'Bahamas' in demographics['COUNTRY']"
   ]
  },
  {
   "cell_type": "code",
   "execution_count": null,
   "metadata": {},
   "outputs": [],
   "source": []
  },
  {
   "cell_type": "code",
   "execution_count": null,
   "metadata": {},
   "outputs": [],
   "source": []
  },
  {
   "cell_type": "code",
   "execution_count": null,
   "metadata": {},
   "outputs": [],
   "source": []
  }
 ],
 "metadata": {
  "kernelspec": {
   "display_name": "Python 3",
   "language": "python",
   "name": "python3"
  },
  "language_info": {
   "codemirror_mode": {
    "name": "ipython",
    "version": 3
   },
   "file_extension": ".py",
   "mimetype": "text/x-python",
   "name": "python",
   "nbconvert_exporter": "python",
   "pygments_lexer": "ipython3",
   "version": "3.6.11"
  }
 },
 "nbformat": 4,
 "nbformat_minor": 4
}
